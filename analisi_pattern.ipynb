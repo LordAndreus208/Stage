{
 "cells": [
  {
   "cell_type": "code",
   "execution_count": 1,
   "metadata": {},
   "outputs": [],
   "source": [
    "from file_py.run_log_parser import RunLogParser\n",
    "from file_py.csv_preprocessing_scaler import CsvPreprocessingScaler\n",
    "from itertools import combinations, permutations, product\n",
    "import pandas as pd\n",
    "from collections import Counter"
   ]
  },
  {
   "cell_type": "code",
   "execution_count": 2,
   "metadata": {},
   "outputs": [],
   "source": [
    "df = CsvPreprocessingScaler.read_csv_file(\"file_csv/LogSplunkWF_24_06.csv\")"
   ]
  },
  {
   "cell_type": "code",
   "execution_count": 3,
   "metadata": {},
   "outputs": [],
   "source": [
    "result_df_Raw = RunLogParser.process_attacks('file_csv/attackLog_24_06.csv', CsvPreprocessingScaler.RawPreprocessingWSig(df))"
   ]
  },
  {
   "cell_type": "markdown",
   "metadata": {},
   "source": [
    "# Patterns"
   ]
  },
  {
   "cell_type": "code",
   "execution_count": 4,
   "metadata": {},
   "outputs": [],
   "source": [
    "# Read the CSVs into Pandas Dataframes\n",
    "#result_df_Raw = pd.read_csv(\"result.csv\")\n",
    "df_attack_log = pd.read_csv(\"file_csv/attackLog_24_06.csv\")\n",
    "\n",
    "# Convert relevant columns to datetime for subsequent analysis\n",
    "\n",
    "#result_df_Raw['_time'] = pd.to_datetime(result_df_Raw['_time'])\n",
    "df_attack_log['Data inizio attacco'] = pd.to_datetime(df_attack_log['Data inizio attacco'])\n",
    "df_attack_log['Data fine attacco'] = pd.to_datetime(df_attack_log['Data fine attacco'])"
   ]
  },
  {
   "cell_type": "code",
   "execution_count": 5,
   "metadata": {},
   "outputs": [],
   "source": [
    "# lista degli eventi\n",
    "events = []\n",
    "single_attack = {'RuleAnnotation.mitre_attack.id': [], 'severity_id': [], 'EventType': [], 'tag': [], 'signature': []}  # Inizializza il dizionario fuori dal ciclo\n",
    "for _, attack in df_attack_log.iterrows():\n",
    "    # Filter results that fall within the attack time window\n",
    "    mask = (result_df_Raw['_time'] >= attack['Data inizio attacco']) & (result_df_Raw['_time'] <= attack['Data fine attacco'])\n",
    "    df_filtered = result_df_Raw.loc[mask].copy()\n",
    "    for _, row in df_filtered.iterrows():\n",
    "        single_attack['RuleAnnotation.mitre_attack.id'].append(row['RuleAnnotation.mitre_attack.id'])\n",
    "        single_attack['severity_id'].append(row['severity_id'])\n",
    "        single_attack['EventType'].append(row['EventType'])\n",
    "        single_attack['tag'].append(row['tag'])\n",
    "        single_attack['signature'].append(row['signature'])\n",
    "    if single_attack['RuleAnnotation.mitre_attack.id']:\n",
    "        events.append(single_attack)\n",
    "    single_attack = {'RuleAnnotation.mitre_attack.id': [], 'severity_id': [], 'EventType': [], 'tag': [], 'signature': []}\n"
   ]
  },
  {
   "cell_type": "code",
   "execution_count": 6,
   "metadata": {},
   "outputs": [],
   "source": [
    "event=pd.DataFrame(events)"
   ]
  },
  {
   "cell_type": "code",
   "execution_count": 7,
   "metadata": {},
   "outputs": [
    {
     "name": "stdout",
     "output_type": "stream",
     "text": [
      "<class 'pandas.core.frame.DataFrame'>\n",
      "RangeIndex: 116 entries, 0 to 115\n",
      "Data columns (total 5 columns):\n",
      " #   Column                          Non-Null Count  Dtype \n",
      "---  ------                          --------------  ----- \n",
      " 0   RuleAnnotation.mitre_attack.id  116 non-null    object\n",
      " 1   severity_id                     116 non-null    object\n",
      " 2   EventType                       116 non-null    object\n",
      " 3   tag                             116 non-null    object\n",
      " 4   signature                       116 non-null    object\n",
      "dtypes: object(5)\n",
      "memory usage: 4.7+ KB\n"
     ]
    }
   ],
   "source": [
    "event.info()"
   ]
  },
  {
   "cell_type": "code",
   "execution_count": 8,
   "metadata": {},
   "outputs": [],
   "source": [
    "def filter_rows_with_min_elements(row, columns, min_elements=4):\n",
    "\n",
    "  for col in columns:\n",
    "    if len(row[col]) < min_elements:\n",
    "      return False\n",
    "  return True"
   ]
  },
  {
   "cell_type": "code",
   "execution_count": 9,
   "metadata": {},
   "outputs": [],
   "source": [
    "# Define a function to convert string to list\n",
    "def convert_to_list(s, col_name):\n",
    "  \"\"\"\n",
    "  This function takes a string, removes the characters '[', ']' and \"'\",\n",
    "  splits the string and converts each item to integer if the string\n",
    "  is `severity_id` or `EventType`.\n",
    "  \"\"\"\n",
    "  s = s.replace('[', '').replace(']', '').replace(\"'\", \"\")\n",
    "  l = s.split(', ')\n",
    "  if col_name in ['severity_id', 'EventType']:\n",
    "    l = [int(i) for i in l]\n",
    "  return l\n"
   ]
  },
  {
   "cell_type": "code",
   "execution_count": 10,
   "metadata": {},
   "outputs": [],
   "source": [
    "# Apply the function to the columns\n",
    "for col in ['RuleAnnotation.mitre_attack.id', 'severity_id', 'EventType', 'tag']:\n",
    "  event[col] = event[col].astype(str).apply(lambda x: convert_to_list(x, col))"
   ]
  },
  {
   "cell_type": "code",
   "execution_count": 11,
   "metadata": {},
   "outputs": [],
   "source": [
    "#Opzionale: per lavorare sugli attacchi che corrispondo ad almeno min_elements elementi\n",
    "columns_to_check = ['RuleAnnotation.mitre_attack.id', 'severity_id', 'EventType', 'tag']\n",
    "filtered_events=event[event.apply(lambda row: filter_rows_with_min_elements(row, columns_to_check), axis=1)]"
   ]
  },
  {
   "cell_type": "code",
   "execution_count": 12,
   "metadata": {},
   "outputs": [],
   "source": [
    "filtered_events.reset_index(inplace=True)"
   ]
  },
  {
   "cell_type": "markdown",
   "metadata": {},
   "source": [
    "## Sequenza"
   ]
  },
  {
   "cell_type": "markdown",
   "metadata": {},
   "source": [
    "Un elenco ordinato di elementi in cui l'ordine è importante. Gli elementi possono ripetersi."
   ]
  },
  {
   "cell_type": "code",
   "execution_count": 13,
   "metadata": {},
   "outputs": [
    {
     "name": "stdout",
     "output_type": "stream",
     "text": [
      "Top 10 most frequent sequences are: \n",
      "\n",
      "                                              sequence frequency\n",
      "302                 [attack\\nmalware\\nprocess\\nreport]        13\n",
      "301  [attack\\nmalware\\nprocess\\nreport, attack\\nmal...        13\n",
      "135                                           [75, 75]        13\n",
      "136                                               [75]        13\n",
      "21                                                 [1]        13\n",
      "18                                              [1, 1]        13\n",
      "134                                       [75, 75, 75]         6\n",
      "185                                            [T1059]         6\n",
      "133                                   [75, 75, 75, 75]         5\n",
      "159       [T1003.001, T1003.001, T1003.001, T1003.001]         4\n"
     ]
    }
   ],
   "source": [
    "\n",
    "# Create a new dataframe to store the sequences and their frequency\n",
    "sequences_df = pd.DataFrame(columns=['sequence', 'frequency'])\n",
    "\n",
    "# Iterate over the columns\n",
    "for col in ['RuleAnnotation.mitre_attack.id', 'severity_id', 'EventType', 'tag']:\n",
    "  # Get all unique sequences and their frequency\n",
    "  sequences = Counter(tuple(seq) for seq in event[col])\n",
    "  # Convert the sequences to a dataframe\n",
    "  sequences_df = pd.concat([sequences_df, pd.DataFrame({'sequence': list(sequences.keys()), 'frequency': list(sequences.values())})])\n",
    "\n",
    "# Get unique sequences and their frequency\n",
    "sequences_df = sequences_df.groupby('sequence').agg({'frequency': 'sum'}).reset_index()\n",
    "sequences_df['sequence'] = sequences_df['sequence'].apply(lambda x: list(x))\n",
    "\n",
    "# Sort the dataframe by frequency in descending order\n",
    "sequences_df = sequences_df.sort_values(by='frequency', ascending=False)\n",
    "\n",
    "# print the top 10 sequences\n",
    "print(\"Top 10 most frequent sequences are: \\n\")\n",
    "print(sequences_df.head(10))"
   ]
  },
  {
   "cell_type": "markdown",
   "metadata": {},
   "source": [
    "### Filtered"
   ]
  },
  {
   "cell_type": "code",
   "execution_count": 14,
   "metadata": {},
   "outputs": [
    {
     "name": "stdout",
     "output_type": "stream",
     "text": [
      "Top 10 most frequent sequences are: \n",
      "\n",
      "                                              sequence frequency\n",
      "106                                   [75, 75, 75, 75]         5\n",
      "99   [75, 75, 75, 75, 75, 75, 75, 75, 75, 75, 75, 7...         4\n",
      "214  [attack\\nmalware\\nprocess\\nreport, attack\\nmal...         4\n",
      "38                                        [3, 3, 3, 3]         4\n",
      "3        [1, 1, 1, 1, 1, 1, 1, 1, 1, 1, 1, 1, 1, 1, 1]         4\n",
      "128       [T1003.001, T1003.001, T1003.001, T1003.001]         4\n",
      "202  [attack\\nendpoint\\nfilesystem\\nmalware, attack...         4\n",
      "137  [T1049, T1069.002, T1482, T1135, T1033, T1059,...         4\n",
      "100  [75, 75, 75, 75, 75, 75, 75, 75, 75, 75, 75, 7...         3\n",
      "105                               [75, 75, 75, 75, 75]         2\n"
     ]
    }
   ],
   "source": [
    "# Create a new dataframe to store the sequences and their frequency\n",
    "sequences_df = pd.DataFrame(columns=['sequence', 'frequency'])\n",
    "\n",
    "# Iterate over the columns\n",
    "for col in ['RuleAnnotation.mitre_attack.id', 'severity_id', 'EventType', 'tag']:\n",
    "  # Get all unique sequences and their frequency\n",
    "  sequences = Counter(tuple(seq) for seq in filtered_events[col])\n",
    "  # Convert the sequences to a dataframe\n",
    "  sequences_df = pd.concat([sequences_df, pd.DataFrame({'sequence': list(sequences.keys()), 'frequency': list(sequences.values())})])\n",
    "\n",
    "# Get unique sequences and their frequency\n",
    "sequences_df = sequences_df.groupby('sequence').agg({'frequency': 'sum'}).reset_index()\n",
    "sequences_df['sequence'] = sequences_df['sequence'].apply(lambda x: list(x))\n",
    "\n",
    "# Sort the dataframe by frequency in descending order\n",
    "sequences_df = sequences_df.sort_values(by='frequency', ascending=False)\n",
    "\n",
    "# print the top 10 sequences\n",
    "print(\"Top 10 most frequent sequences are: \\n\")\n",
    "print(sequences_df.head(10))"
   ]
  },
  {
   "cell_type": "markdown",
   "metadata": {},
   "source": [
    "## Permutazione"
   ]
  },
  {
   "cell_type": "markdown",
   "metadata": {},
   "source": [
    "Un modo specifico di ordinare tutti gli elementi di un insieme. L'ordine è cruciale, e ogni elemento viene utilizzato una sola volta."
   ]
  },
  {
   "cell_type": "code",
   "execution_count": 15,
   "metadata": {},
   "outputs": [
    {
     "name": "stdout",
     "output_type": "stream",
     "text": [
      "Top 10 permutazioni più frequenti \n",
      "\n",
      "| permutation                                      | frequency   |\n",
      "|:-------------------------------------------------|:------------|\n",
      "| ['T1087.002', 'T1482', 'T1069.001', 'T1087']     | 15          |\n",
      "| ['T1087.002', 'T1069.001', 'T1087', 'T1069.002'] | 15          |\n",
      "| ['T1482', 'T1087.001', 'T1059.001', 'T1069.001'] | 15          |\n",
      "| ['T1482', 'T1087.001', 'T1059.001', 'T1069']     | 15          |\n",
      "| ['T1087', 'T1069.001', 'T1087.002', 'T1087.001'] | 15          |\n",
      "| ['T1087', 'T1069.001', 'T1087.002', 'T1069.002'] | 15          |\n",
      "| ['T1087', 'T1069.001', 'T1087.002', 'T1069']     | 15          |\n",
      "| ['T1087', 'T1069.001', 'T1087.002', 'T1059.001'] | 15          |\n",
      "| ['T1059.001', 'T1069.001', 'T1087', 'T1482']     | 15          |\n",
      "| ['T1059.001', 'T1069.001', 'T1087', 'T1087.001'] | 15          |\n"
     ]
    }
   ],
   "source": [
    "# Create a new dataframe to store the permutations and their frequency\n",
    "permutations_df = pd.DataFrame(columns=['permutation', 'frequency'])\n",
    "\n",
    "# Iterate over the columns\n",
    "for col in ['RuleAnnotation.mitre_attack.id', 'severity_id', 'EventType', 'tag']:\n",
    "  # Get all unique permutations and their frequency\n",
    "  perms = Counter(tuple(perm) for l in filtered_events[col] for perm in permutations(set(l), 4))#len(set(l)\n",
    "\n",
    "\n",
    "  # Convert the permutations to a dataframe\n",
    "  permutations_df = pd.concat([permutations_df, pd.DataFrame({'permutation': list(perms.keys()), 'frequency': list(perms.values())})])\n",
    "\n",
    "# Get unique permutations and their frequency\n",
    "permutations_df = permutations_df.groupby('permutation').agg({'frequency': 'sum'}).reset_index()\n",
    "permutations_df['permutation'] = permutations_df['permutation'].apply(lambda x: list(x))\n",
    "\n",
    "# Sort the dataframe by frequency in descending order\n",
    "permutations_df = permutations_df.sort_values(by='frequency', ascending=False)\n",
    "\n",
    "# print the top 10 permutations\n",
    "print(\"Top 10 permutazioni più frequenti \\n\")\n",
    "print(permutations_df.head(10).to_markdown(index=False, numalign=\"left\", stralign=\"left\"))\n"
   ]
  },
  {
   "cell_type": "markdown",
   "metadata": {},
   "source": [
    "## Combinazione"
   ]
  },
  {
   "cell_type": "markdown",
   "metadata": {},
   "source": [
    "Un modo di selezionare un sottoinsieme di elementi da un insieme più grande, dove l'ordine di selezione non è importante."
   ]
  },
  {
   "cell_type": "code",
   "execution_count": 16,
   "metadata": {},
   "outputs": [
    {
     "name": "stdout",
     "output_type": "stream",
     "text": [
      "Top 10 combinazioni più frequenti con almeno 3 elementi: \n",
      "\n",
      "                       combination frequency\n",
      "7                     [25, 50, 75]        18\n",
      "911      [T1482, T1069.001, T1087]        15\n",
      "490  [T1069.001, T1069, T1087.001]        15\n",
      "413      [T1069, T1087.002, T1087]        15\n",
      "646  [T1087.002, T1087.001, T1087]        15\n",
      "414  [T1069, T1087.002, T1087.001]        15\n",
      "895          [T1482, T1069, T1087]        15\n",
      "896      [T1482, T1069, T1087.001]        15\n",
      "897      [T1482, T1069, T1087.002]        15\n",
      "909      [T1482, T1069.001, T1069]        15\n"
     ]
    }
   ],
   "source": [
    "#Numero elementi\n",
    "num_elems=3\n",
    "\n",
    "# Create a new dataframe to store the combinations and their frequency\n",
    "combinations_df = pd.DataFrame(columns=['combination', 'frequency'])\n",
    "\n",
    "# Iterate over the columns\n",
    "for col in ['RuleAnnotation.mitre_attack.id', 'severity_id', 'EventType', 'tag']:\n",
    "  # Get all unique combinations and their frequency\n",
    "  combs = Counter(tuple(comb) for l in event[col] for comb in combinations(set(l), num_elems))\n",
    "  # Convert the combinations to a dataframe\n",
    "  combinations_df = pd.concat([combinations_df, pd.DataFrame({'combination': list(combs.keys()), 'frequency': list(combs.values())})])\n",
    "\n",
    "# Get unique combinations and their frequency\n",
    "combinations_df = combinations_df.groupby('combination').agg({'frequency': 'sum'}).reset_index()\n",
    "combinations_df['combination'] = combinations_df['combination'].apply(lambda x: list(x))\n",
    "\n",
    "# Sort the dataframe by frequency in descending order\n",
    "combinations_df = combinations_df.sort_values(by='frequency', ascending=False)\n",
    "\n",
    "# print the top 10 combinations\n",
    "print(f\"Top 10 combinazioni più frequenti con almeno {num_elems} elementi: \\n\")\n",
    "print(combinations_df.head(10))"
   ]
  },
  {
   "cell_type": "markdown",
   "metadata": {},
   "source": [
    "### Filtered"
   ]
  },
  {
   "cell_type": "code",
   "execution_count": 17,
   "metadata": {},
   "outputs": [
    {
     "name": "stdout",
     "output_type": "stream",
     "text": [
      "Top 10 combinazioni più frequenti con almeno 4 elementi: \n",
      "\n",
      "                                   combination frequency\n",
      "2445          [T1482, T1069, T1087.001, T1087]        15\n",
      "2453      [T1482, T1069, T1087.002, T1087.001]        15\n",
      "2452          [T1482, T1069, T1087.002, T1087]        15\n",
      "2528          [T1482, T1069.001, T1069, T1087]        15\n",
      "2529      [T1482, T1069.001, T1069, T1087.001]        15\n",
      "2530      [T1482, T1069.001, T1069, T1087.002]        15\n",
      "2561  [T1482, T1069.001, T1087.002, T1087.001]        15\n",
      "2684      [T1482, T1087.002, T1087.001, T1087]        15\n",
      "1245      [T1069.001, T1069, T1087.001, T1087]        15\n",
      "2553      [T1482, T1069.001, T1087.001, T1087]        15\n"
     ]
    }
   ],
   "source": [
    "#Numero elementi\n",
    "num_elems=4\n",
    "\n",
    "# Create a new dataframe to store the combinations and their frequency\n",
    "combinations_df = pd.DataFrame(columns=['combination', 'frequency'])\n",
    "\n",
    "# Iterate over the columns\n",
    "for col in ['RuleAnnotation.mitre_attack.id', 'severity_id', 'EventType', 'tag']:\n",
    "  # Get all unique combinations and their frequency\n",
    "  combs = Counter(tuple(comb) for l in filtered_events[col] for comb in combinations(set(l), num_elems))\n",
    "  # Convert the combinations to a dataframe\n",
    "  combinations_df = pd.concat([combinations_df, pd.DataFrame({'combination': list(combs.keys()), 'frequency': list(combs.values())})])\n",
    "\n",
    "# Get unique combinations and their frequency\n",
    "combinations_df = combinations_df.groupby('combination').agg({'frequency': 'sum'}).reset_index()\n",
    "combinations_df['combination'] = combinations_df['combination'].apply(lambda x: list(x))\n",
    "\n",
    "# Sort the dataframe by frequency in descending order\n",
    "combinations_df = combinations_df.sort_values(by='frequency', ascending=False)\n",
    "\n",
    "# print the top 10 combinations\n",
    "print(f\"Top 10 combinazioni più frequenti con almeno {num_elems} elementi: \\n\")\n",
    "print(combinations_df.head(10))"
   ]
  },
  {
   "cell_type": "markdown",
   "metadata": {},
   "source": [
    "## MLXTEND e PrefixSpan Test"
   ]
  },
  {
   "cell_type": "markdown",
   "metadata": {},
   "source": [
    "### Sequenze frequenti"
   ]
  },
  {
   "cell_type": "markdown",
   "metadata": {},
   "source": [
    "APRIORI: Un algoritmo utilizzato nel data mining per scoprire frequenti pattern di elementi in grandi insiemi di dati."
   ]
  },
  {
   "cell_type": "code",
   "execution_count": 18,
   "metadata": {},
   "outputs": [],
   "source": [
    "from mlxtend.preprocessing import TransactionEncoder\n",
    "from mlxtend.frequent_patterns import apriori\n",
    "from mlxtend.frequent_patterns import association_rules"
   ]
  },
  {
   "cell_type": "code",
   "execution_count": 19,
   "metadata": {},
   "outputs": [
    {
     "name": "stdout",
     "output_type": "stream",
     "text": [
      "      support                                         itemsets  length\n",
      "15   0.224138                               (T1059, T1059.001)       2\n",
      "14   0.181034                               (T1003.001, T1105)       2\n",
      "131  0.146552                    (T1482, T1087.002, T1069.002)       3\n",
      "44   0.146552                               (T1482, T1069.002)       2\n",
      "43   0.146552                           (T1087.002, T1069.002)       2\n",
      "50   0.146552                               (T1087.002, T1482)       2\n",
      "337  0.129310  (T1069.001, T1069, T1087.002, T1059.001, T1087)       5\n",
      "239  0.129310                 (T1482, T1069, T1087, T1069.002)       4\n",
      "246  0.129310             (T1069, T1087.002, T1087.001, T1482)       4\n",
      "245  0.129310                 (T1069, T1087.002, T1087, T1482)       4\n"
     ]
    }
   ],
   "source": [
    "# Funzione per preprocessare le sequenze\n",
    "def preprocess_sequences(data):\n",
    "    sequences = data.apply(eval).tolist()\n",
    "    return sequences\n",
    "\n",
    "# Preprocessare le colonne di eventi\n",
    "#event_sequences = preprocess_sequences(event['RuleAnnotation.mitre_attack.id'])\n",
    "event_sequences=event['RuleAnnotation.mitre_attack.id']\n",
    "# Utilizzare TransactionEncoder per trasformare le sequenze\n",
    "te = TransactionEncoder()\n",
    "te_ary = te.fit(event_sequences).transform(event_sequences)\n",
    "df_trans = pd.DataFrame(te_ary, columns=te.columns_)\n",
    "\n",
    "# Applicare l'algoritmo Apriori per trovare sequenze frequenti\n",
    "frequent_itemsets = apriori(df_trans, min_support=0.1, use_colnames=True)\n",
    "frequent_itemsets.sort_values(by='support', ascending=False, inplace=True)\n",
    "\n",
    "# Filtrare per itemset di almeno 3 elementi\n",
    "frequent_itemsets['length'] = frequent_itemsets['itemsets'].apply(lambda x: len(x))\n",
    "frequent_itemsets = frequent_itemsets[frequent_itemsets['length'] >= 2]\n",
    "\n",
    "print(frequent_itemsets.head(10))"
   ]
  },
  {
   "cell_type": "markdown",
   "metadata": {},
   "source": [
    "# Apriori su tutto il dataset event"
   ]
  },
  {
   "cell_type": "code",
   "execution_count": 20,
   "metadata": {},
   "outputs": [
    {
     "name": "stderr",
     "output_type": "stream",
     "text": [
      "C:\\Users\\AlbertiLe\\AppData\\Local\\Temp\\ipykernel_118596\\3166264222.py:33: SettingWithCopyWarning: \n",
      "A value is trying to be set on a copy of a slice from a DataFrame.\n",
      "Try using .loc[row_indexer,col_indexer] = value instead\n",
      "\n",
      "See the caveats in the documentation: https://pandas.pydata.org/pandas-docs/stable/user_guide/indexing.html#returning-a-view-versus-a-copy\n",
      "  sequence_occurrence_confidence['occurrences'] = sequence_occurrence_confidence['support'] * num_transactions\n"
     ]
    },
    {
     "data": {
      "image/png": "[encoded data removed]",
      "text/plain": [
       "<Figure size 2500x1500 with 1 Axes>"
      ]
     },
     "metadata": {},
     "output_type": "display_data"
    }
   ],
   "source": [
    "import matplotlib.pyplot as plt\n",
    "import numpy as np\n",
    "import ast\n",
    "\n",
    "df_apriori = event.copy()\n",
    "\n",
    "# Apply the function to the columns\n",
    "for col in ['RuleAnnotation.mitre_attack.id', 'severity_id', 'EventType', 'tag']:\n",
    "  df_apriori[col] = df_apriori[col].astype(str).apply(lambda x: convert_to_list(x, col))\n",
    "\n",
    "# Trasformazione del dataset in una lista di liste di eventi\n",
    "df_apriori_list = df_apriori.values.tolist()\n",
    "transformed_dataset = [sum(row, []) for row in df_apriori_list]\n",
    "\n",
    "all_sequences = [[str(item) for item in sequence] for sequence in transformed_dataset]\n",
    "\n",
    "# Applica l'algoritmo Apriori per identificare gli itemset frequenti\n",
    "te = TransactionEncoder()\n",
    "te_ary = te.fit(all_sequences).transform(all_sequences)\n",
    "df_apriori_TE = pd.DataFrame(te_ary, columns=te.columns_)\n",
    "\n",
    "# Identifica gli itemset frequenti con supporto minimo 0.4\n",
    "frequent_itemsets = apriori(df_apriori_TE, min_support=0.4, use_colnames=True)\n",
    "# Genera le regole di associazione con confidence minima 0.95\n",
    "min_threshold = 0.95\n",
    "rules = association_rules(frequent_itemsets, metric=\"confidence\", min_threshold=min_threshold)\n",
    "\n",
    "# Filtra le regole con almeno 3 elementi in antecedente o conseguente\n",
    "sequence_occurrence_confidence = rules[(rules['antecedents'].apply(len) >= 3) | (rules['consequents'].apply(len) >= 3)]\n",
    "\n",
    "# Calcola il numero di transazioni nel dataset trasformato\n",
    "num_transactions = len(df_apriori_TE)\n",
    "sequence_occurrence_confidence['occurrences'] = sequence_occurrence_confidence['support'] * num_transactions\n",
    "\n",
    "# Creazione del dizionario che mappa indici a sequenze di eventi con occorrenze\n",
    "list_sequence_index = []\n",
    "for idx, (antecedents, consequents) in enumerate(zip(sequence_occurrence_confidence['antecedents'], sequence_occurrence_confidence['consequents'])):\n",
    "    antecedents_str = ', '.join(antecedents).replace('\\n', ' ').replace('\\\\\\\\', '/')\n",
    "    consequents_str = ', '.join(consequents).replace('\\n', ' ').replace('\\\\\\\\', '/')\n",
    "    list_sequence_index.append(f\"{idx} : {antecedents_str}  ------>  {consequents_str}\")\n",
    "\n",
    "# Plot della confidence delle sequenze di eventi\n",
    "y_min = min_threshold - 0.01\n",
    "plt.figure(figsize=(25, 15))\n",
    "plt.bar(range(len(sequence_occurrence_confidence)), sequence_occurrence_confidence['confidence'], color='skyblue')\n",
    "plt.xlabel('Sequenza di Eventi (Indice)')\n",
    "plt.ylabel('Confidence')\n",
    "plt.title('Confidence delle Sequenze di Eventi')\n",
    "plt.ylim(y_min, 1.005)\n",
    "plt.xticks(np.arange(0, len(sequence_occurrence_confidence), step=5), [f\"{idx}\" for idx in range(0, len(sequence_occurrence_confidence), 5)])\n",
    "plt.show()"
   ]
  },
  {
   "cell_type": "code",
   "execution_count": 21,
   "metadata": {},
   "outputs": [
    {
     "data": {
      "text/plain": [
       "['0 : 3, T1003.001, attack/nendpoint/nfilesystem/nmalware  ------>  75',\n",
       " '1 : 3, T1003.001, 75  ------>  attack/nendpoint/nfilesystem/nmalware',\n",
       " '2 : 3, attack/nendpoint/nfilesystem/nmalware, 75  ------>  T1003.001',\n",
       " '3 : attack/nendpoint/nfilesystem/nmalware, T1003.001, 75  ------>  3',\n",
       " '4 : 3  ------>  attack/nendpoint/nfilesystem/nmalware, T1003.001, 75',\n",
       " '5 : attack/nendpoint/nfilesystem/nmalware  ------>  3, T1003.001, 75',\n",
       " '6 : 3, T1003.001, suspicious-unsigned-dbghelp/dbgcore-dll-loaded  ------>  75',\n",
       " '7 : 3, T1003.001, 75  ------>  suspicious-unsigned-dbghelp/dbgcore-dll-loaded',\n",
       " '8 : 3, suspicious-unsigned-dbghelp/dbgcore-dll-loaded, 75  ------>  T1003.001',\n",
       " '9 : T1003.001, suspicious-unsigned-dbghelp/dbgcore-dll-loaded, 75  ------>  3',\n",
       " '10 : 3  ------>  T1003.001, suspicious-unsigned-dbghelp/dbgcore-dll-loaded, 75',\n",
       " '11 : suspicious-unsigned-dbghelp/dbgcore-dll-loaded  ------>  3, T1003.001, 75',\n",
       " '12 : 3, attack/nendpoint/nfilesystem/nmalware, suspicious-unsigned-dbghelp/dbgcore-dll-loaded  ------>  75',\n",
       " '13 : 3, attack/nendpoint/nfilesystem/nmalware, 75  ------>  suspicious-unsigned-dbghelp/dbgcore-dll-loaded',\n",
       " '14 : 3, suspicious-unsigned-dbghelp/dbgcore-dll-loaded, 75  ------>  attack/nendpoint/nfilesystem/nmalware',\n",
       " '15 : attack/nendpoint/nfilesystem/nmalware, suspicious-unsigned-dbghelp/dbgcore-dll-loaded, 75  ------>  3',\n",
       " '16 : 3  ------>  attack/nendpoint/nfilesystem/nmalware, suspicious-unsigned-dbghelp/dbgcore-dll-loaded, 75',\n",
       " '17 : attack/nendpoint/nfilesystem/nmalware  ------>  3, suspicious-unsigned-dbghelp/dbgcore-dll-loaded, 75',\n",
       " '18 : suspicious-unsigned-dbghelp/dbgcore-dll-loaded  ------>  3, attack/nendpoint/nfilesystem/nmalware, 75',\n",
       " '19 : 3, T1003.001, attack/nendpoint/nfilesystem/nmalware  ------>  suspicious-unsigned-dbghelp/dbgcore-dll-loaded',\n",
       " '20 : 3, T1003.001, suspicious-unsigned-dbghelp/dbgcore-dll-loaded  ------>  attack/nendpoint/nfilesystem/nmalware',\n",
       " '21 : 3, attack/nendpoint/nfilesystem/nmalware, suspicious-unsigned-dbghelp/dbgcore-dll-loaded  ------>  T1003.001',\n",
       " '22 : attack/nendpoint/nfilesystem/nmalware, T1003.001, suspicious-unsigned-dbghelp/dbgcore-dll-loaded  ------>  3',\n",
       " '23 : 3  ------>  attack/nendpoint/nfilesystem/nmalware, T1003.001, suspicious-unsigned-dbghelp/dbgcore-dll-loaded',\n",
       " '24 : attack/nendpoint/nfilesystem/nmalware  ------>  3, T1003.001, suspicious-unsigned-dbghelp/dbgcore-dll-loaded',\n",
       " '25 : suspicious-unsigned-dbghelp/dbgcore-dll-loaded  ------>  3, T1003.001, attack/nendpoint/nfilesystem/nmalware',\n",
       " '26 : attack/nendpoint/nfilesystem/nmalware, T1003.001, suspicious-unsigned-dbghelp/dbgcore-dll-loaded  ------>  75',\n",
       " '27 : attack/nendpoint/nfilesystem/nmalware, T1003.001, 75  ------>  suspicious-unsigned-dbghelp/dbgcore-dll-loaded',\n",
       " '28 : attack/nendpoint/nfilesystem/nmalware, suspicious-unsigned-dbghelp/dbgcore-dll-loaded, 75  ------>  T1003.001',\n",
       " '29 : T1003.001, suspicious-unsigned-dbghelp/dbgcore-dll-loaded, 75  ------>  attack/nendpoint/nfilesystem/nmalware',\n",
       " '30 : attack/nendpoint/nfilesystem/nmalware  ------>  T1003.001, suspicious-unsigned-dbghelp/dbgcore-dll-loaded, 75',\n",
       " '31 : suspicious-unsigned-dbghelp/dbgcore-dll-loaded  ------>  attack/nendpoint/nfilesystem/nmalware, T1003.001, 75',\n",
       " '32 : attack/nendpoint/nfilesystem/nmalware, T1003.001, 3, 75  ------>  suspicious-unsigned-dbghelp/dbgcore-dll-loaded',\n",
       " '33 : attack/nendpoint/nfilesystem/nmalware, T1003.001, suspicious-unsigned-dbghelp/dbgcore-dll-loaded, 75  ------>  3',\n",
       " '34 : 3, T1003.001, suspicious-unsigned-dbghelp/dbgcore-dll-loaded, 75  ------>  attack/nendpoint/nfilesystem/nmalware',\n",
       " '35 : attack/nendpoint/nfilesystem/nmalware, 3, 75, suspicious-unsigned-dbghelp/dbgcore-dll-loaded  ------>  T1003.001',\n",
       " '36 : attack/nendpoint/nfilesystem/nmalware, T1003.001, suspicious-unsigned-dbghelp/dbgcore-dll-loaded, 3  ------>  75',\n",
       " '37 : attack/nendpoint/nfilesystem/nmalware, T1003.001, 75  ------>  3, suspicious-unsigned-dbghelp/dbgcore-dll-loaded',\n",
       " '38 : 3, T1003.001, 75  ------>  attack/nendpoint/nfilesystem/nmalware, suspicious-unsigned-dbghelp/dbgcore-dll-loaded',\n",
       " '39 : T1003.001, suspicious-unsigned-dbghelp/dbgcore-dll-loaded, 75  ------>  attack/nendpoint/nfilesystem/nmalware, 3',\n",
       " '40 : attack/nendpoint/nfilesystem/nmalware, 3, 75  ------>  T1003.001, suspicious-unsigned-dbghelp/dbgcore-dll-loaded',\n",
       " '41 : attack/nendpoint/nfilesystem/nmalware, suspicious-unsigned-dbghelp/dbgcore-dll-loaded, 75  ------>  3, T1003.001',\n",
       " '42 : 3, suspicious-unsigned-dbghelp/dbgcore-dll-loaded, 75  ------>  attack/nendpoint/nfilesystem/nmalware, T1003.001',\n",
       " '43 : attack/nendpoint/nfilesystem/nmalware, T1003.001, 3  ------>  suspicious-unsigned-dbghelp/dbgcore-dll-loaded, 75',\n",
       " '44 : attack/nendpoint/nfilesystem/nmalware, T1003.001, suspicious-unsigned-dbghelp/dbgcore-dll-loaded  ------>  3, 75',\n",
       " '45 : 3, T1003.001, suspicious-unsigned-dbghelp/dbgcore-dll-loaded  ------>  attack/nendpoint/nfilesystem/nmalware, 75',\n",
       " '46 : attack/nendpoint/nfilesystem/nmalware, suspicious-unsigned-dbghelp/dbgcore-dll-loaded, 3  ------>  T1003.001, 75',\n",
       " '47 : attack/nendpoint/nfilesystem/nmalware, 75  ------>  3, T1003.001, suspicious-unsigned-dbghelp/dbgcore-dll-loaded',\n",
       " '48 : 3, 75  ------>  attack/nendpoint/nfilesystem/nmalware, T1003.001, suspicious-unsigned-dbghelp/dbgcore-dll-loaded',\n",
       " '49 : suspicious-unsigned-dbghelp/dbgcore-dll-loaded, 75  ------>  attack/nendpoint/nfilesystem/nmalware, T1003.001, 3',\n",
       " '50 : attack/nendpoint/nfilesystem/nmalware, T1003.001  ------>  3, suspicious-unsigned-dbghelp/dbgcore-dll-loaded, 75',\n",
       " '51 : 3, T1003.001  ------>  attack/nendpoint/nfilesystem/nmalware, suspicious-unsigned-dbghelp/dbgcore-dll-loaded, 75',\n",
       " '52 : T1003.001, suspicious-unsigned-dbghelp/dbgcore-dll-loaded  ------>  attack/nendpoint/nfilesystem/nmalware, 3, 75',\n",
       " '53 : attack/nendpoint/nfilesystem/nmalware, 3  ------>  T1003.001, suspicious-unsigned-dbghelp/dbgcore-dll-loaded, 75',\n",
       " '54 : attack/nendpoint/nfilesystem/nmalware, suspicious-unsigned-dbghelp/dbgcore-dll-loaded  ------>  3, T1003.001, 75',\n",
       " '55 : 3, suspicious-unsigned-dbghelp/dbgcore-dll-loaded  ------>  attack/nendpoint/nfilesystem/nmalware, T1003.001, 75',\n",
       " '56 : attack/nendpoint/nfilesystem/nmalware  ------>  3, T1003.001, suspicious-unsigned-dbghelp/dbgcore-dll-loaded, 75',\n",
       " '57 : 3  ------>  attack/nendpoint/nfilesystem/nmalware, T1003.001, suspicious-unsigned-dbghelp/dbgcore-dll-loaded, 75',\n",
       " '58 : suspicious-unsigned-dbghelp/dbgcore-dll-loaded  ------>  attack/nendpoint/nfilesystem/nmalware, T1003.001, 3, 75']"
      ]
     },
     "execution_count": 21,
     "metadata": {},
     "output_type": "execute_result"
    }
   ],
   "source": [
    "list_sequence_index"
   ]
  },
  {
   "cell_type": "markdown",
   "metadata": {},
   "source": [
    "# Stat Severity"
   ]
  },
  {
   "cell_type": "code",
   "execution_count": 22,
   "metadata": {},
   "outputs": [
    {
     "data": {
      "image/png": "[encoded data removed]",
      "text/plain": [
       "<Figure size 1800x800 with 3 Axes>"
      ]
     },
     "metadata": {},
     "output_type": "display_data"
    }
   ],
   "source": [
    "from file_py.stat_severity import StatSeverity\n",
    "\n",
    "StatSeverity.plot_stat_severity(event)"
   ]
  }
 ],
 "metadata": {
  "kernelspec": {
   "display_name": "Tirocinio-0AUZfuHo",
   "language": "python",
   "name": "python3"
  },
  "language_info": {
   "codemirror_mode": {
    "name": "ipython",
    "version": 3
   },
   "file_extension": ".py",
   "mimetype": "text/x-python",
   "name": "python",
   "nbconvert_exporter": "python",
   "pygments_lexer": "ipython3",
   "version": "3.12.4"
  }
 },
 "nbformat": 4,
 "nbformat_minor": 2
}
